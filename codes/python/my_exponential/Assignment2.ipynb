{
 "cells": [
  {
   "cell_type": "code",
   "execution_count": 54,
   "id": "c43d6215",
   "metadata": {},
   "outputs": [],
   "source": [
    "# python program to calculate the exponential series\n",
    "# Using Taylor's Series\n",
    "import numpy as np\n",
    "import matplotlib.pyplot as plt\n",
    "from math import factorial\n",
    "import time\n",
    "import warnings\n",
    "def my_exp(x,n=100):\n",
    "    s=0\n",
    "    for i in range(0,n):\n",
    "        s=s+(x**i)/factorial(i)\n",
    "    return s\n",
    "    \n",
    "    \n",
    "\n",
    "    "
   ]
  },
  {
   "cell_type": "code",
   "execution_count": 55,
   "id": "270da178",
   "metadata": {},
   "outputs": [
    {
     "data": {
      "text/plain": [
       "148.41315910257657"
      ]
     },
     "execution_count": 55,
     "metadata": {},
     "output_type": "execute_result"
    }
   ],
   "source": [
    "my_exp(5)"
   ]
  },
  {
   "cell_type": "code",
   "execution_count": 56,
   "id": "65a59806",
   "metadata": {},
   "outputs": [
    {
     "data": {
      "text/plain": [
       "2.7182818284590455"
      ]
     },
     "execution_count": 56,
     "metadata": {},
     "output_type": "execute_result"
    }
   ],
   "source": [
    "my_exp(1)"
   ]
  },
  {
   "cell_type": "code",
   "execution_count": 57,
   "id": "949efc93",
   "metadata": {},
   "outputs": [
    {
     "name": "stdout",
     "output_type": "stream",
     "text": [
      "The value of exponential is 1.0\n",
      "The value of exponential is 16.0\n",
      "The value of exponential is 128.5\n",
      "The value of exponential is 691.0\n",
      "The value of exponential is 2800.375\n",
      "The value of exponential is 9128.5\n",
      "The value of exponential is 24948.8125\n",
      "The value of exponential is 58849.482142857145\n",
      "The value of exponential is 122413.23772321429\n",
      "The value of exponential is 228352.83035714284\n",
      "The value of exponential is 387262.2193080357\n",
      "The value of exponential is 603956.8406047078\n",
      "The value of exponential is 874825.1172255479\n",
      "The value of exponential is 1187365.4364034403\n",
      "The value of exponential is 1522230.0640940394\n",
      "The value of exponential is 1857094.6917846384\n",
      "The value of exponential is 2171030.280244575\n",
      "The value of exponential is 2448032.270062166\n",
      "The value of exponential is 2678867.261576825\n",
      "The value of exponential is 2861105.4127726085\n",
      "The value of exponential is 2997784.0261694463\n",
      "The value of exponential is 3095411.6071671876\n",
      "The value of exponential is 3161975.866938375\n",
      "The value of exponential is 3205387.340702193\n",
      "The value of exponential is 3232519.511804579\n",
      "The value of exponential is 3248798.8144660103\n",
      "The value of exponential is 3258190.7198476056\n",
      "The value of exponential is 3263408.445059603\n",
      "The value of exponential is 3266203.654994602\n",
      "The value of exponential is 3267649.4532368425\n",
      "The value of exponential is 3268372.3523579626\n",
      "The value of exponential is 3268722.142255279\n",
      "The value of exponential is 3268886.106269646\n",
      "The value of exponential is 3268960.6353670857\n",
      "The value of exponential is 3268993.5158512504\n",
      "The value of exponential is 3269007.607487321\n",
      "The value of exponential is 3269013.4790023505\n",
      "The value of exponential is 3269015.8593462813\n",
      "The value of exponential is 3269016.798955728\n",
      "The value of exponential is 3269017.160343976\n",
      "The value of exponential is 3269017.2958645695\n",
      "The value of exponential is 3269017.3454452744\n",
      "The value of exponential is 3269017.363152669\n",
      "The value of exponential is 3269017.3693296667\n",
      "The value of exponential is 3269017.3714354616\n",
      "The value of exponential is 3269017.3721373933\n",
      "The value of exponential is 3269017.372366284\n",
      "The value of exponential is 3269017.372439334\n",
      "The value of exponential is 3269017.3724621623\n",
      "The value of exponential is 3269017.3724691505\n",
      "The value of exponential is 3269017.372471247\n",
      "The value of exponential is 3269017.3724718634\n",
      "The value of exponential is 3269017.3724720413\n",
      "The value of exponential is 3269017.3724720916\n",
      "The value of exponential is 3269017.3724721055\n",
      "The value of exponential is 3269017.3724721093\n",
      "The value of exponential is 3269017.37247211\n",
      "The value of exponential is 3269017.3724721107\n",
      "The value converges at 59 iteration\n"
     ]
    }
   ],
   "source": [
    "tol=1.0e-14\n",
    "x=15\n",
    "\n",
    "s0=0\n",
    "for i in range(1,1000):\n",
    "    s=my_exp(x,i)\n",
    "    if abs(s-s0) < tol:\n",
    "        print('The value converges at %s iteration'%i)\n",
    "        break\n",
    "    s0=s\n",
    "    print(\"The value of exponential is\",s)\n"
   ]
  },
  {
   "cell_type": "code",
   "execution_count": 58,
   "id": "f01e6f16",
   "metadata": {},
   "outputs": [
    {
     "data": {
      "image/png": "[encoded data removed]",
      "text/plain": [
       "<Figure size 640x480 with 1 Axes>"
      ]
     },
     "metadata": {},
     "output_type": "display_data"
    }
   ],
   "source": [
    "x=np.linspace(0,100,1000)\n",
    "built_in=np.exp(x)\n",
    "y=my_exp(x,155)\n",
    "plt.figure(1)\n",
    "plt.plot(x,built_in,label='Built in function result',linewidth = 3,\n",
    "         marker='v', markerfacecolor='blue', markersize=10)\n",
    "plt.plot(x,y,label='My result',linewidth = 3,\n",
    "         marker='o', markerfacecolor='red', markersize=10)\n",
    "plt.legend()\n",
    "plt.xlabel('value')\n",
    "plt.ylabel('$exp(x)$')\n",
    "plt.show()\n"
   ]
  },
  {
   "cell_type": "code",
   "execution_count": 59,
   "id": "940f631c",
   "metadata": {},
   "outputs": [
    {
     "name": "stdout",
     "output_type": "stream",
     "text": [
      "5.36 µs ± 284 ns per loop (mean ± std. dev. of 7 runs, 100,000 loops each)\n",
      "309 µs ± 31.1 µs per loop (mean ± std. dev. of 7 runs, 1,000 loops each)\n"
     ]
    }
   ],
   "source": [
    "%timeit np.exp(10)\n",
    "%timeit my_exp(10)\n"
   ]
  },
  {
   "cell_type": "code",
   "execution_count": null,
   "id": "01c974dd",
   "metadata": {},
   "outputs": [],
   "source": []
  }
 ],
 "metadata": {
  "kernelspec": {
   "display_name": "Python 3 (ipykernel)",
   "language": "python",
   "name": "python3"
  },
  "language_info": {
   "codemirror_mode": {
    "name": "ipython",
    "version": 3
   },
   "file_extension": ".py",
   "mimetype": "text/x-python",
   "name": "python",
   "nbconvert_exporter": "python",
   "pygments_lexer": "ipython3",
   "version": "3.10.6"
  }
 },
 "nbformat": 4,
 "nbformat_minor": 5
}
